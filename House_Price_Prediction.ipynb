{
 "cells": [
  {
   "cell_type": "code",
   "execution_count": 4,
   "id": "0af81c35",
   "metadata": {},
   "outputs": [],
   "source": [
    "import pandas as pd\n",
    "import numpy as np\n",
    "import matplotlib.pyplot as plt\n",
    "import seaborn as sns"
   ]
  },
  {
   "cell_type": "code",
   "execution_count": 5,
   "id": "32f4d904",
   "metadata": {},
   "outputs": [],
   "source": [
    "df=pd.read_csv(\"House_Price.csv\")"
   ]
  },
  {
   "cell_type": "code",
   "execution_count": 6,
   "id": "de4f2a6e",
   "metadata": {},
   "outputs": [
    {
     "data": {
      "text/html": [
       "<div>\n",
       "<style scoped>\n",
       "    .dataframe tbody tr th:only-of-type {\n",
       "        vertical-align: middle;\n",
       "    }\n",
       "\n",
       "    .dataframe tbody tr th {\n",
       "        vertical-align: top;\n",
       "    }\n",
       "\n",
       "    .dataframe thead th {\n",
       "        text-align: right;\n",
       "    }\n",
       "</style>\n",
       "<table border=\"1\" class=\"dataframe\">\n",
       "  <thead>\n",
       "    <tr style=\"text-align: right;\">\n",
       "      <th></th>\n",
       "      <th>price</th>\n",
       "      <th>crime_rate</th>\n",
       "      <th>resid_area</th>\n",
       "      <th>air_qual</th>\n",
       "      <th>room_num</th>\n",
       "      <th>age</th>\n",
       "      <th>dist1</th>\n",
       "      <th>dist2</th>\n",
       "      <th>dist3</th>\n",
       "      <th>dist4</th>\n",
       "      <th>teachers</th>\n",
       "      <th>poor_prop</th>\n",
       "      <th>airport</th>\n",
       "      <th>n_hos_beds</th>\n",
       "      <th>n_hot_rooms</th>\n",
       "      <th>waterbody</th>\n",
       "      <th>rainfall</th>\n",
       "      <th>bus_ter</th>\n",
       "      <th>parks</th>\n",
       "    </tr>\n",
       "  </thead>\n",
       "  <tbody>\n",
       "    <tr>\n",
       "      <th>0</th>\n",
       "      <td>24.0</td>\n",
       "      <td>0.00632</td>\n",
       "      <td>32.31</td>\n",
       "      <td>0.538</td>\n",
       "      <td>6.575</td>\n",
       "      <td>65.2</td>\n",
       "      <td>4.35</td>\n",
       "      <td>3.81</td>\n",
       "      <td>4.18</td>\n",
       "      <td>4.01</td>\n",
       "      <td>24.7</td>\n",
       "      <td>4.98</td>\n",
       "      <td>YES</td>\n",
       "      <td>5.480</td>\n",
       "      <td>11.1920</td>\n",
       "      <td>River</td>\n",
       "      <td>23</td>\n",
       "      <td>YES</td>\n",
       "      <td>0.049347</td>\n",
       "    </tr>\n",
       "    <tr>\n",
       "      <th>1</th>\n",
       "      <td>21.6</td>\n",
       "      <td>0.02731</td>\n",
       "      <td>37.07</td>\n",
       "      <td>0.469</td>\n",
       "      <td>6.421</td>\n",
       "      <td>78.9</td>\n",
       "      <td>4.99</td>\n",
       "      <td>4.70</td>\n",
       "      <td>5.12</td>\n",
       "      <td>5.06</td>\n",
       "      <td>22.2</td>\n",
       "      <td>9.14</td>\n",
       "      <td>NO</td>\n",
       "      <td>7.332</td>\n",
       "      <td>12.1728</td>\n",
       "      <td>Lake</td>\n",
       "      <td>42</td>\n",
       "      <td>YES</td>\n",
       "      <td>0.046146</td>\n",
       "    </tr>\n",
       "    <tr>\n",
       "      <th>2</th>\n",
       "      <td>34.7</td>\n",
       "      <td>0.02729</td>\n",
       "      <td>37.07</td>\n",
       "      <td>0.469</td>\n",
       "      <td>7.185</td>\n",
       "      <td>61.1</td>\n",
       "      <td>5.03</td>\n",
       "      <td>4.86</td>\n",
       "      <td>5.01</td>\n",
       "      <td>4.97</td>\n",
       "      <td>22.2</td>\n",
       "      <td>4.03</td>\n",
       "      <td>NO</td>\n",
       "      <td>7.394</td>\n",
       "      <td>101.1200</td>\n",
       "      <td>None</td>\n",
       "      <td>38</td>\n",
       "      <td>YES</td>\n",
       "      <td>0.045764</td>\n",
       "    </tr>\n",
       "    <tr>\n",
       "      <th>3</th>\n",
       "      <td>33.4</td>\n",
       "      <td>0.03237</td>\n",
       "      <td>32.18</td>\n",
       "      <td>0.458</td>\n",
       "      <td>6.998</td>\n",
       "      <td>45.8</td>\n",
       "      <td>6.21</td>\n",
       "      <td>5.93</td>\n",
       "      <td>6.16</td>\n",
       "      <td>5.96</td>\n",
       "      <td>21.3</td>\n",
       "      <td>2.94</td>\n",
       "      <td>YES</td>\n",
       "      <td>9.268</td>\n",
       "      <td>11.2672</td>\n",
       "      <td>Lake</td>\n",
       "      <td>45</td>\n",
       "      <td>YES</td>\n",
       "      <td>0.047151</td>\n",
       "    </tr>\n",
       "    <tr>\n",
       "      <th>4</th>\n",
       "      <td>36.2</td>\n",
       "      <td>0.06905</td>\n",
       "      <td>32.18</td>\n",
       "      <td>0.458</td>\n",
       "      <td>7.147</td>\n",
       "      <td>54.2</td>\n",
       "      <td>6.16</td>\n",
       "      <td>5.86</td>\n",
       "      <td>6.37</td>\n",
       "      <td>5.86</td>\n",
       "      <td>21.3</td>\n",
       "      <td>5.33</td>\n",
       "      <td>NO</td>\n",
       "      <td>8.824</td>\n",
       "      <td>11.2896</td>\n",
       "      <td>Lake</td>\n",
       "      <td>55</td>\n",
       "      <td>YES</td>\n",
       "      <td>0.039474</td>\n",
       "    </tr>\n",
       "  </tbody>\n",
       "</table>\n",
       "</div>"
      ],
      "text/plain": [
       "   price  crime_rate  resid_area  air_qual  room_num   age  dist1  dist2  \\\n",
       "0   24.0     0.00632       32.31     0.538     6.575  65.2   4.35   3.81   \n",
       "1   21.6     0.02731       37.07     0.469     6.421  78.9   4.99   4.70   \n",
       "2   34.7     0.02729       37.07     0.469     7.185  61.1   5.03   4.86   \n",
       "3   33.4     0.03237       32.18     0.458     6.998  45.8   6.21   5.93   \n",
       "4   36.2     0.06905       32.18     0.458     7.147  54.2   6.16   5.86   \n",
       "\n",
       "   dist3  dist4  teachers  poor_prop airport  n_hos_beds  n_hot_rooms  \\\n",
       "0   4.18   4.01      24.7       4.98     YES       5.480      11.1920   \n",
       "1   5.12   5.06      22.2       9.14      NO       7.332      12.1728   \n",
       "2   5.01   4.97      22.2       4.03      NO       7.394     101.1200   \n",
       "3   6.16   5.96      21.3       2.94     YES       9.268      11.2672   \n",
       "4   6.37   5.86      21.3       5.33      NO       8.824      11.2896   \n",
       "\n",
       "  waterbody  rainfall bus_ter     parks  \n",
       "0     River        23     YES  0.049347  \n",
       "1      Lake        42     YES  0.046146  \n",
       "2      None        38     YES  0.045764  \n",
       "3      Lake        45     YES  0.047151  \n",
       "4      Lake        55     YES  0.039474  "
      ]
     },
     "execution_count": 6,
     "metadata": {},
     "output_type": "execute_result"
    }
   ],
   "source": [
    "df.head()"
   ]
  },
  {
   "cell_type": "code",
   "execution_count": 7,
   "id": "181dcb70",
   "metadata": {},
   "outputs": [
    {
     "data": {
      "text/plain": [
       "Index(['price', 'crime_rate', 'resid_area', 'air_qual', 'room_num', 'age',\n",
       "       'dist1', 'dist2', 'dist3', 'dist4', 'teachers', 'poor_prop', 'airport',\n",
       "       'n_hos_beds', 'n_hot_rooms', 'waterbody', 'rainfall', 'bus_ter',\n",
       "       'parks'],\n",
       "      dtype='object')"
      ]
     },
     "execution_count": 7,
     "metadata": {},
     "output_type": "execute_result"
    }
   ],
   "source": [
    "df.columns"
   ]
  },
  {
   "cell_type": "code",
   "execution_count": 8,
   "id": "df69f166",
   "metadata": {
    "scrolled": true
   },
   "outputs": [
    {
     "data": {
      "text/plain": [
       "price          0\n",
       "crime_rate     0\n",
       "resid_area     0\n",
       "air_qual       0\n",
       "room_num       0\n",
       "age            0\n",
       "dist1          0\n",
       "dist2          0\n",
       "dist3          0\n",
       "dist4          0\n",
       "teachers       0\n",
       "poor_prop      0\n",
       "airport        0\n",
       "n_hos_beds     8\n",
       "n_hot_rooms    0\n",
       "waterbody      0\n",
       "rainfall       0\n",
       "bus_ter        0\n",
       "parks          0\n",
       "dtype: int64"
      ]
     },
     "execution_count": 8,
     "metadata": {},
     "output_type": "execute_result"
    }
   ],
   "source": [
    "df.isna().sum()"
   ]
  },
  {
   "cell_type": "code",
   "execution_count": 9,
   "id": "07b39530",
   "metadata": {},
   "outputs": [],
   "source": [
    "df[\"n_hos_beds\"].fillna(df[\"n_hos_beds\"].mode()[0], inplace=True)"
   ]
  },
  {
   "cell_type": "code",
   "execution_count": 10,
   "id": "3cb7a0a8",
   "metadata": {},
   "outputs": [
    {
     "data": {
      "text/plain": [
       "price          0\n",
       "crime_rate     0\n",
       "resid_area     0\n",
       "air_qual       0\n",
       "room_num       0\n",
       "age            0\n",
       "dist1          0\n",
       "dist2          0\n",
       "dist3          0\n",
       "dist4          0\n",
       "teachers       0\n",
       "poor_prop      0\n",
       "airport        0\n",
       "n_hos_beds     0\n",
       "n_hot_rooms    0\n",
       "waterbody      0\n",
       "rainfall       0\n",
       "bus_ter        0\n",
       "parks          0\n",
       "dtype: int64"
      ]
     },
     "execution_count": 10,
     "metadata": {},
     "output_type": "execute_result"
    }
   ],
   "source": [
    "df.isna().sum()"
   ]
  },
  {
   "cell_type": "code",
   "execution_count": 12,
   "id": "120530af",
   "metadata": {},
   "outputs": [
    {
     "name": "stdout",
     "output_type": "stream",
     "text": [
      "<class 'pandas.core.frame.DataFrame'>\n",
      "RangeIndex: 506 entries, 0 to 505\n",
      "Data columns (total 19 columns):\n",
      " #   Column       Non-Null Count  Dtype  \n",
      "---  ------       --------------  -----  \n",
      " 0   price        506 non-null    float64\n",
      " 1   crime_rate   506 non-null    float64\n",
      " 2   resid_area   506 non-null    float64\n",
      " 3   air_qual     506 non-null    float64\n",
      " 4   room_num     506 non-null    float64\n",
      " 5   age          506 non-null    float64\n",
      " 6   dist1        506 non-null    float64\n",
      " 7   dist2        506 non-null    float64\n",
      " 8   dist3        506 non-null    float64\n",
      " 9   dist4        506 non-null    float64\n",
      " 10  teachers     506 non-null    float64\n",
      " 11  poor_prop    506 non-null    float64\n",
      " 12  airport      506 non-null    object \n",
      " 13  n_hos_beds   506 non-null    float64\n",
      " 14  n_hot_rooms  506 non-null    float64\n",
      " 15  waterbody    506 non-null    object \n",
      " 16  rainfall     506 non-null    int64  \n",
      " 17  bus_ter      506 non-null    object \n",
      " 18  parks        506 non-null    float64\n",
      "dtypes: float64(15), int64(1), object(3)\n",
      "memory usage: 75.2+ KB\n"
     ]
    }
   ],
   "source": [
    "df.info()"
   ]
  },
  {
   "cell_type": "code",
   "execution_count": 29,
   "id": "c2893417",
   "metadata": {},
   "outputs": [
    {
     "name": "stdout",
     "output_type": "stream",
     "text": [
      "[6.3200000e-03 3.2310000e+01 5.3800000e-01 6.5750000e+00 6.5200000e+01\n",
      " 4.3500000e+00 3.8100000e+00 4.1800000e+00 4.0100000e+00 2.4700000e+01\n",
      " 4.9800000e+00 5.4800000e+00 1.1192000e+01 2.3000000e+01 4.9347306e-02]\n",
      "24.0\n"
     ]
    }
   ],
   "source": [
    "x = df.iloc[:, np.r_[1:12,13:15,16:17,18:19]].values\n",
    "y = df.iloc[:, 0].values\n",
    "print(x[0])\n",
    "print(y[0])\n"
   ]
  },
  {
   "cell_type": "code",
   "execution_count": 30,
   "id": "1df144be",
   "metadata": {},
   "outputs": [],
   "source": [
    "from sklearn.model_selection import train_test_split\n",
    "x_train,x_test,y_train,y_test=train_test_split(x,y,test_size=0.2,random_state=0)\n",
    "\n",
    "from sklearn.preprocessing import LabelEncoder\n",
    "Labelencoder_x=LabelEncoder()"
   ]
  },
  {
   "cell_type": "code",
   "execution_count": 31,
   "id": "ffa95294",
   "metadata": {},
   "outputs": [
    {
     "data": {
      "text/plain": [
       "array([3.5809000e-01, 3.6200000e+01, 5.0700000e-01, 6.9510000e+00,\n",
       "       8.8500000e+01, 3.0300000e+00, 2.7200000e+00, 3.0300000e+00,\n",
       "       2.6600000e+00, 2.2600000e+01, 9.7100000e+00, 8.7340000e+00,\n",
       "       1.1213600e+01, 2.3000000e+01, 5.3540387e-02])"
      ]
     },
     "execution_count": 31,
     "metadata": {},
     "output_type": "execute_result"
    }
   ],
   "source": [
    "x_train[0]"
   ]
  },
  {
   "cell_type": "code",
   "execution_count": 32,
   "id": "dc646902",
   "metadata": {},
   "outputs": [
    {
     "data": {
      "text/plain": [
       "array([6.7240000e-02, 3.3240000e+01, 4.6000000e-01, 6.3330000e+00,\n",
       "       1.7200000e+01, 5.3600000e+00, 5.0800000e+00, 5.4500000e+00,\n",
       "       4.9700000e+00, 2.3100000e+01, 7.3400000e+00, 5.5520000e+00,\n",
       "       1.4180800e+01, 5.3000000e+01, 4.5171644e-02])"
      ]
     },
     "execution_count": 32,
     "metadata": {},
     "output_type": "execute_result"
    }
   ],
   "source": [
    "x_test[0]"
   ]
  },
  {
   "cell_type": "code",
   "execution_count": 33,
   "id": "a848aa0b",
   "metadata": {},
   "outputs": [
    {
     "data": {
      "text/plain": [
       "26.7"
      ]
     },
     "execution_count": 33,
     "metadata": {},
     "output_type": "execute_result"
    }
   ],
   "source": [
    "y_train[0]"
   ]
  },
  {
   "cell_type": "code",
   "execution_count": 34,
   "id": "1f533f2c",
   "metadata": {},
   "outputs": [
    {
     "data": {
      "text/plain": [
       "22.6"
      ]
     },
     "execution_count": 34,
     "metadata": {},
     "output_type": "execute_result"
    }
   ],
   "source": [
    "y_test[0]"
   ]
  },
  {
   "cell_type": "code",
   "execution_count": 35,
   "id": "3db50e7d",
   "metadata": {},
   "outputs": [
    {
     "ename": "IndexError",
     "evalue": "index 15 is out of bounds for axis 1 with size 15",
     "output_type": "error",
     "traceback": [
      "\u001b[1;31m---------------------------------------------------------------------------\u001b[0m",
      "\u001b[1;31mIndexError\u001b[0m                                Traceback (most recent call last)",
      "\u001b[1;32m~\\AppData\\Local\\Temp\\ipykernel_39916\\1058726869.py\u001b[0m in \u001b[0;36m<module>\u001b[1;34m\u001b[0m\n\u001b[0;32m      1\u001b[0m \u001b[1;32mfor\u001b[0m \u001b[0mi\u001b[0m \u001b[1;32min\u001b[0m  \u001b[0mrange\u001b[0m\u001b[1;33m(\u001b[0m\u001b[1;36m0\u001b[0m\u001b[1;33m,\u001b[0m\u001b[1;36m18\u001b[0m\u001b[1;33m)\u001b[0m\u001b[1;33m:\u001b[0m\u001b[1;33m\u001b[0m\u001b[1;33m\u001b[0m\u001b[0m\n\u001b[1;32m----> 2\u001b[1;33m     \u001b[0mx_train\u001b[0m\u001b[1;33m[\u001b[0m\u001b[1;33m:\u001b[0m\u001b[1;33m,\u001b[0m\u001b[0mi\u001b[0m\u001b[1;33m]\u001b[0m\u001b[1;33m=\u001b[0m\u001b[0mLabelencoder_x\u001b[0m\u001b[1;33m.\u001b[0m\u001b[0mfit_transform\u001b[0m\u001b[1;33m(\u001b[0m\u001b[0mx_train\u001b[0m\u001b[1;33m[\u001b[0m\u001b[1;33m:\u001b[0m\u001b[1;33m,\u001b[0m\u001b[0mi\u001b[0m\u001b[1;33m]\u001b[0m\u001b[1;33m)\u001b[0m\u001b[1;33m\u001b[0m\u001b[1;33m\u001b[0m\u001b[0m\n\u001b[0m\u001b[0;32m      3\u001b[0m \u001b[0mx_train\u001b[0m\u001b[1;33m\u001b[0m\u001b[1;33m\u001b[0m\u001b[0m\n",
      "\u001b[1;31mIndexError\u001b[0m: index 15 is out of bounds for axis 1 with size 15"
     ]
    }
   ],
   "source": [
    "for i in  range(0,18):\n",
    "    x_train[:,i]=Labelencoder_x.fit_transform(x_train[:,i])\n",
    "x_train  "
   ]
  },
  {
   "cell_type": "code",
   "execution_count": 36,
   "id": "8a71d705",
   "metadata": {},
   "outputs": [
    {
     "data": {
      "text/plain": [
       "array([148, 109, 149, 121,  15, 111,  99, 145, 201,  67, 113,  97,  62,\n",
       "       135,   8, 122,  13, 213, 166,  27,  87, 105,  96,  81, 183,  80,\n",
       "        89, 182,  33,   4,  38,  69,   8, 190, 131,  36, 144,   3,  33,\n",
       "       136, 196, 140, 132,  63, 179, 193,  19,   3, 120, 158,  45, 135,\n",
       "        76, 117,  98,  52,  69,  38,   6,  77, 190, 173, 180, 114,  97,\n",
       "       130, 140,  30, 160,  25,  72, 149,  99,  14,  70,  90, 162,  98,\n",
       "        49,  18,  88, 119,  88, 137, 140, 136, 213,  44,  23, 169, 158,\n",
       "        59, 205, 140, 112,  92, 113, 209, 121,  95, 204, 185,  39, 134,\n",
       "       107, 135, 105, 129, 147, 141,  12,  87,  87,  11,  41, 146,  39,\n",
       "       186,  60, 109,  70,  55, 102, 109,  30,  80, 128,  86,  30, 108,\n",
       "       124, 161, 105, 129,  66, 112, 195,  81, 111, 123,  95,  69, 180,\n",
       "       132, 193,  56, 175,  37,  74,  35,  22, 202,  79,  33, 140, 105,\n",
       "        57, 187, 142, 139, 107, 126,  82,  17, 103, 151,  70,  37, 158,\n",
       "        48,  84, 157,  33,  83,  20,  35, 116,  94,  77, 121,  99, 140,\n",
       "        31, 187, 128, 213, 159, 164, 112,  55, 125, 164,  44, 120, 213,\n",
       "       101,   1, 187, 176,  92,  96,  73, 123,  97, 124,   2,  65, 210,\n",
       "       213, 121, 130, 106, 109,  54,  53, 123, 130,  87,  24,  73, 171,\n",
       "       184, 101,  91, 116,   0, 136,  87,  51,  77,  86, 150, 100, 198,\n",
       "        22, 183, 164, 106, 208,  94, 101, 145,  15, 110, 174, 109,  48,\n",
       "       199,  73, 153, 154, 191,  82,  50, 117, 167,  93,  84, 125, 147,\n",
       "       104,  90,  93,  26,   3,  43,  68, 151, 114,  18,  85, 174,  46,\n",
       "       138,  29, 131, 132, 213,  58, 206, 147, 192, 110, 163, 213, 207,\n",
       "        99,  89, 155,  84, 115, 102, 155,  45, 178,  39,   9, 117, 188,\n",
       "       172,  73,  55, 100, 200,  73,  89,  45, 112, 212, 140, 211, 130,\n",
       "        96,  52,  16,  83,  61,  10, 112, 139, 213,  86, 119, 197, 172,\n",
       "         7, 123, 213,  40,  58, 143,  88,  14,  92, 189,  36, 133,  21,\n",
       "       126,  64,  54,  75, 156,  79, 177, 213, 213,  89,  71, 203,  46,\n",
       "        34,  59, 161,  64,  32, 115,  36,   0,  88,  47, 112,   5, 137,\n",
       "       182,  99,  42,  42, 104, 165, 128, 106,  78,   9, 120, 120, 114,\n",
       "        40, 140,  80,   2, 118,  94, 168, 170, 129,  28, 127, 124, 133,\n",
       "       114, 152, 114, 181,  86,  82, 118, 213, 139,  80, 194,  85,  63,\n",
       "       123], dtype=int64)"
      ]
     },
     "execution_count": 36,
     "metadata": {},
     "output_type": "execute_result"
    }
   ],
   "source": [
    "Labelencoder_y=LabelEncoder()\n",
    "y_train=Labelencoder_y.fit_transform(y_train)\n",
    "y_train"
   ]
  },
  {
   "cell_type": "code",
   "execution_count": 37,
   "id": "07f3556a",
   "metadata": {},
   "outputs": [
    {
     "data": {
      "text/plain": [
       "array([1.8000000e+01, 6.0000000e+00, 1.6000000e+01, 6.0000000e+01,\n",
       "       2.0000000e+00, 7.0000000e+01, 6.7000000e+01, 5.4500000e+00,\n",
       "       4.9700000e+00, 2.3100000e+01, 7.3400000e+00, 5.5520000e+00,\n",
       "       1.4180800e+01, 5.3000000e+01, 4.5171644e-02])"
      ]
     },
     "execution_count": 37,
     "metadata": {},
     "output_type": "execute_result"
    }
   ],
   "source": [
    "for i in  range(0,7):\n",
    "    x_test[:,i]=Labelencoder_x.fit_transform(x_test[:,i])\n",
    "x_test[0]"
   ]
  },
  {
   "cell_type": "code",
   "execution_count": 38,
   "id": "f6bf4103",
   "metadata": {},
   "outputs": [
    {
     "data": {
      "text/plain": [
       "array([46, 75, 47,  2, 41, 33, 39, 25, 17, 24,  3, 22, 13,  5, 75, 63, 47,\n",
       "       70, 65, 40, 54, 28, 37, 64, 29, 48, 31, 30, 71, 25, 12, 34, 38, 35,\n",
       "       52, 19,  0, 75, 11,  7, 55, 34, 32,  9, 18, 43, 36, 20,  6, 60, 16,\n",
       "       48, 56, 72, 16, 44, 21, 22, 14, 44, 24, 40, 69, 68, 35, 66, 15, 14,\n",
       "       60, 46, 34, 42, 51, 67, 53,  1, 74, 57, 46, 23, 50, 21, 61, 73, 75,\n",
       "       47, 42,  4, 50, 49, 26,  8, 45, 59, 27, 56,  9, 58, 10, 25, 62, 32],\n",
       "      dtype=int64)"
      ]
     },
     "execution_count": 38,
     "metadata": {},
     "output_type": "execute_result"
    }
   ],
   "source": [
    "Labelencoder_y=LabelEncoder()\n",
    "y_test=Labelencoder_y.fit_transform(y_test)\n",
    "y_test"
   ]
  },
  {
   "cell_type": "code",
   "execution_count": 43,
   "id": "84bbd4c6",
   "metadata": {},
   "outputs": [
    {
     "data": {
      "text/plain": [
       "LinearRegression()"
      ]
     },
     "execution_count": 43,
     "metadata": {},
     "output_type": "execute_result"
    }
   ],
   "source": [
    "from sklearn.linear_model import LinearRegression\n",
    "reg=LinearRegression()\n",
    "reg.fit(x_train,y_train)"
   ]
  },
  {
   "cell_type": "code",
   "execution_count": 45,
   "id": "206491c3",
   "metadata": {},
   "outputs": [
    {
     "data": {
      "text/plain": [
       "array([207.43169621, 188.22067359, 196.78147847, 181.72307673,\n",
       "       199.09439454, 192.38094929, 189.97307393, 197.32695674,\n",
       "       190.25083544, 195.54012503, 183.90143703, 187.92113746,\n",
       "       186.99961912, 178.18607951, 199.93028851, 214.2147849 ,\n",
       "       192.00270377, 216.33759607, 206.21533302, 197.20455075,\n",
       "       200.57634741, 193.177087  , 192.55401769, 204.02106351,\n",
       "       196.92915346, 183.22212646, 190.80562871, 188.87600924,\n",
       "       209.09350006, 192.5916271 , 187.76410554, 186.54865321,\n",
       "       201.27652231, 203.14572046, 203.77260927, 185.54079551,\n",
       "       181.01146739, 187.51237375, 189.03936748, 185.04977987,\n",
       "       201.661847  , 196.72292324, 204.94941399, 184.94479742,\n",
       "       208.08181847, 202.39250444, 196.50604647, 191.34821287,\n",
       "       183.17937259, 196.57563273, 191.2103719 , 189.69663727,\n",
       "       198.32735576, 207.74151411, 183.61347407, 198.27963804,\n",
       "       199.57062142, 200.67240716, 186.75851548, 192.84750806,\n",
       "       205.44279292, 194.38927728, 208.61682262, 204.10228015,\n",
       "       186.53178596, 210.28762866, 188.86476988, 197.67370345,\n",
       "       188.9204001 , 195.41623161, 197.3210476 , 199.11920416,\n",
       "       209.68070256, 208.08734761, 196.05574218, 178.34360777,\n",
       "       203.93548943, 198.07934407, 205.1462798 , 190.92190327,\n",
       "       208.40478464, 188.74059102, 184.12666632, 204.44305783,\n",
       "       203.32554   , 199.68397772, 202.32974638, 186.13033919,\n",
       "       195.66677008, 185.7404152 , 199.62662145, 186.51202815,\n",
       "       208.48093682, 213.17865407, 192.71602438, 200.77003177,\n",
       "       175.07296839, 209.90908373, 188.50710643, 196.44200599,\n",
       "       197.5075157 , 194.9637504 ])"
      ]
     },
     "execution_count": 45,
     "metadata": {},
     "output_type": "execute_result"
    }
   ],
   "source": [
    "y_pred = reg.predict(x_test)\n",
    "y_pred"
   ]
  },
  {
   "cell_type": "code",
   "execution_count": 46,
   "id": "c48835c7",
   "metadata": {},
   "outputs": [
    {
     "data": {
      "text/plain": [
       "-317.88858272676015"
      ]
     },
     "execution_count": 46,
     "metadata": {},
     "output_type": "execute_result"
    }
   ],
   "source": [
    "from sklearn.metrics import r2_score\n",
    "r2_score(y_pred,y_test)"
   ]
  }
 ],
 "metadata": {
  "kernelspec": {
   "display_name": "Python 3 (ipykernel)",
   "language": "python",
   "name": "python3"
  },
  "language_info": {
   "codemirror_mode": {
    "name": "ipython",
    "version": 3
   },
   "file_extension": ".py",
   "mimetype": "text/x-python",
   "name": "python",
   "nbconvert_exporter": "python",
   "pygments_lexer": "ipython3",
   "version": "3.9.13"
  }
 },
 "nbformat": 4,
 "nbformat_minor": 5
}
